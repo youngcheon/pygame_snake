{
 "cells": [
  {
   "cell_type": "code",
   "execution_count": 16,
   "metadata": {
    "scrolled": true
   },
   "outputs": [
    {
     "ename": "KeyboardInterrupt",
     "evalue": "",
     "output_type": "error",
     "traceback": [
      "\u001b[1;31m---------------------------------------------------------------------------\u001b[0m",
      "\u001b[1;31mKeyboardInterrupt\u001b[0m                         Traceback (most recent call last)",
      "\u001b[1;32m<ipython-input-16-251ff4cdbc8b>\u001b[0m in \u001b[0;36m<module>\u001b[1;34m\u001b[0m\n\u001b[0;32m    101\u001b[0m             \u001b[0mfps\u001b[0m \u001b[1;33m=\u001b[0m \u001b[1;36m150\u001b[0m\u001b[1;33m\u001b[0m\u001b[1;33m\u001b[0m\u001b[0m\n\u001b[0;32m    102\u001b[0m \u001b[1;32mif\u001b[0m \u001b[0m__name__\u001b[0m \u001b[1;33m==\u001b[0m \u001b[1;34m\"__main__\"\u001b[0m\u001b[1;33m:\u001b[0m\u001b[1;33m\u001b[0m\u001b[1;33m\u001b[0m\u001b[0m\n\u001b[1;32m--> 103\u001b[1;33m     \u001b[0mmain\u001b[0m\u001b[1;33m(\u001b[0m\u001b[1;33m)\u001b[0m\u001b[1;33m\u001b[0m\u001b[1;33m\u001b[0m\u001b[0m\n\u001b[0m\u001b[0;32m    104\u001b[0m \u001b[1;33m\u001b[0m\u001b[0m\n",
      "\u001b[1;32m<ipython-input-16-251ff4cdbc8b>\u001b[0m in \u001b[0;36mmain\u001b[1;34m()\u001b[0m\n\u001b[0;32m     97\u001b[0m         \u001b[0mfps\u001b[0m \u001b[1;33m=\u001b[0m \u001b[1;36m5\u001b[0m\u001b[1;33m\u001b[0m\u001b[1;33m\u001b[0m\u001b[0m\n\u001b[0;32m     98\u001b[0m         \u001b[0mfps\u001b[0m \u001b[1;33m+=\u001b[0m \u001b[1;36m1\u001b[0m\u001b[1;33m\u001b[0m\u001b[1;33m\u001b[0m\u001b[0m\n\u001b[1;32m---> 99\u001b[1;33m         \u001b[0mFPSCLOCK\u001b[0m\u001b[1;33m.\u001b[0m\u001b[0mtick\u001b[0m\u001b[1;33m(\u001b[0m\u001b[0mfps\u001b[0m\u001b[1;33m)\u001b[0m\u001b[1;33m\u001b[0m\u001b[1;33m\u001b[0m\u001b[0m\n\u001b[0m\u001b[0;32m    100\u001b[0m         \u001b[1;32mif\u001b[0m \u001b[0mfps\u001b[0m \u001b[1;33m==\u001b[0m \u001b[1;36m150\u001b[0m\u001b[1;33m:\u001b[0m\u001b[1;33m\u001b[0m\u001b[1;33m\u001b[0m\u001b[0m\n\u001b[0;32m    101\u001b[0m             \u001b[0mfps\u001b[0m \u001b[1;33m=\u001b[0m \u001b[1;36m150\u001b[0m\u001b[1;33m\u001b[0m\u001b[1;33m\u001b[0m\u001b[0m\n",
      "\u001b[1;31mKeyboardInterrupt\u001b[0m: "
     ]
    }
   ],
   "source": [
    "import pygame\n",
    "import sys\n",
    "import random\n",
    "from pygame.locals import QUIT, KEYDOWN, K_LEFT, K_RIGHT, K_UP, K_DOWN, Rect\n",
    "\n",
    "#파이게임의 기능을 초기화해줍니다.\n",
    "pygame.init()\n",
    "#화면에 대한 정보를 가지고 있을 변수\n",
    "SURFACE = pygame.display.set_mode((600,600))\n",
    "#Frame을 제어해 줄 변수\n",
    "FPSCLOCK = pygame.time.Clock()\n",
    "\n",
    "#뱀의 먹이\n",
    "FOODS = []\n",
    "#뱀의 길이\n",
    "SNAKE = []\n",
    "#칸의 크기(게임환경)\n",
    "(W, H) = (20, 20)\n",
    "#먹이를 추가할 메서드\n",
    "def add_food():\n",
    "    while True:\n",
    "        pos  = (random.randint(0, W - 1), random.randint(0,H-1))\n",
    "        if pos in FOODS or pos in SNAKE:\n",
    "            continue\n",
    "        FOODS.append(pos)\n",
    "        break\n",
    "def move_food(pos):\n",
    "    i = FOODS.index(pos)\n",
    "    del FOODS[i]\n",
    "    add_food()\n",
    "def paint(message, message2):\n",
    "    #화면 변수를 통해서 검은색배경을 만든다.\n",
    "    #색깔은 RGB를 기반으로 그리게된다.\n",
    "    SURFACE.fill((0,0,0))\n",
    "    for food in FOODS:\n",
    "        #draw.ellipse('그릴위치', 도형색, 크기)\n",
    "        pygame.draw.ellipse(SURFACE, (0, 255, 0), Rect(food[0] * 30, food[1] * 30, 30, 30))\n",
    "    for body in SNAKE:\n",
    "        pygame.draw.rect(SURFACE, (0,255,255), Rect(body[0] * 30, body[1] * 30, 30, 30))\n",
    "        \n",
    "    #칸을 그려줍니다.\n",
    "    for index in range(20):\n",
    "        pygame.draw.line(SURFACE, (64, 64, 64), (index * 30, 0), (index * 30, 600))\n",
    "        pygame.draw.line(SURFACE,(64, 64, 64), (0, index * 30), (600,index * 30)) \n",
    "    #게임이 오버가 됐을때 그려줍니다.\n",
    "    if message != None:\n",
    "        SURFACE.blit(message, (120, 150))\n",
    "        SURFACE.blit(message2, (170,300))\n",
    "    pygame.display.update()\n",
    "def main():\n",
    "    myfont  = pygame.font.SysFont(None, 80)\n",
    "    #기본키 세팅\n",
    "    # 스네이크가 시작할때 위로 올라가면서 시작합니다.\n",
    "    key  = K_UP\n",
    "    # 보낼 메시지\n",
    "    message = None\n",
    "    message2= None\n",
    "    #게임이종료되었는지 확인할 변수\n",
    "    game_over = False\n",
    "    #스네이크의 초기 위치값\n",
    "    SNAKE.append((int(W/2), int(H/2)))\n",
    "    #먹이를 넣어줍니다.\n",
    "    for _ in range(20):\n",
    "        add_food()\n",
    "    # 게임을 끊기지 않게 만듭니다.\n",
    "    while True:\n",
    "        # 종료가 되었는지 확인하기 위해서 이벤트상태를 가져와서 처리합니다.\n",
    "        for event in pygame.event.get():\n",
    "            if event.type == quit:\n",
    "                pygame.quit()\n",
    "                sys.exit()\n",
    "            elif event.type == KEYDOWN:\n",
    "                key = event.key\n",
    "        if not game_over:\n",
    "            #키가 눌렸을때 스네이크의 행동을 제어하는 분기문\n",
    "            if key == K_LEFT:\n",
    "                head = (SNAKE[0][0] - 1, SNAKE[0][1])\n",
    "            elif key == K_RIGHT:\n",
    "                head = (SNAKE[0][0] + 1, SNAKE[0][1])\n",
    "            elif key == K_UP:\n",
    "                head = (SNAKE[0][0], SNAKE[0][1] - 1)\n",
    "            elif key == K_DOWN:\n",
    "                head = (SNAKE[0][0], SNAKE[0][1] + 1)\n",
    "            if head in SNAKE or head[0] < 0 or head[0] >= W \\\n",
    "            or head[1] < 0 or head[1] >= H :\n",
    "                message = myfont.render(\"GAME OVER\", True, (255, 0, 0))\n",
    "                message2 = myfont.render(\"SCORE:\"+str(len(SNAKE)), True, (255, 255, 0))\n",
    "                game_over = True\n",
    "            \n",
    "            SNAKE.insert(0, head)\n",
    "            \n",
    "            if head in FOODS : \n",
    "                move_food(head)\n",
    "            else :\n",
    "                SNAKE.pop()\n",
    "        paint(message,message2)\n",
    "        fps = 5\n",
    "        fps += 1\n",
    "        FPSCLOCK.tick(fps)\n",
    "        if fps == 150:\n",
    "            fps = 150\n",
    "if __name__ == \"__main__\":\n",
    "    main()\n",
    "                "
   ]
  },
  {
   "cell_type": "code",
   "execution_count": null,
   "metadata": {},
   "outputs": [],
   "source": []
  },
  {
   "cell_type": "code",
   "execution_count": null,
   "metadata": {},
   "outputs": [],
   "source": []
  },
  {
   "cell_type": "code",
   "execution_count": null,
   "metadata": {},
   "outputs": [],
   "source": []
  },
  {
   "cell_type": "code",
   "execution_count": null,
   "metadata": {},
   "outputs": [],
   "source": []
  },
  {
   "cell_type": "code",
   "execution_count": null,
   "metadata": {},
   "outputs": [],
   "source": []
  },
  {
   "cell_type": "code",
   "execution_count": null,
   "metadata": {},
   "outputs": [],
   "source": []
  },
  {
   "cell_type": "code",
   "execution_count": null,
   "metadata": {},
   "outputs": [],
   "source": []
  },
  {
   "cell_type": "code",
   "execution_count": null,
   "metadata": {},
   "outputs": [],
   "source": []
  },
  {
   "cell_type": "code",
   "execution_count": null,
   "metadata": {},
   "outputs": [],
   "source": []
  },
  {
   "cell_type": "code",
   "execution_count": null,
   "metadata": {},
   "outputs": [],
   "source": []
  },
  {
   "cell_type": "code",
   "execution_count": null,
   "metadata": {},
   "outputs": [],
   "source": []
  },
  {
   "cell_type": "code",
   "execution_count": null,
   "metadata": {},
   "outputs": [],
   "source": []
  },
  {
   "cell_type": "code",
   "execution_count": null,
   "metadata": {},
   "outputs": [],
   "source": []
  }
 ],
 "metadata": {
  "kernelspec": {
   "display_name": "Python 3",
   "language": "python",
   "name": "python3"
  }
 },
 "nbformat": 4,
 "nbformat_minor": 4
}
